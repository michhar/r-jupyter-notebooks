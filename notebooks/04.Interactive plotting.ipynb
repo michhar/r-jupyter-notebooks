{
 "cells": [
  {
   "cell_type": "markdown",
   "metadata": {},
   "source": [
    "# \"Airports in the United States\"\n",
    "- This was originally an r-markdown file, now converted to notebook format, from John Lam's [repo here](https://github.com/jflam/VSDemos).  I've also adapted some of the plotting because javascript+html is quite a bit <i>different</i> in a jupyter notebook, especially with the R kernel.\n",
    "\n",
    "Let's load a list of airport data from https://github.com/jpatokal/openflights"
   ]
  },
  {
   "cell_type": "code",
   "execution_count": null,
   "metadata": {
    "collapsed": true
   },
   "outputs": [],
   "source": [
    "# TIP:  often you'll want some data externally, but can not upload a file to jupyter system\n",
    "#   In this case I pull directly from a raw file online (like a repo file here)\n",
    "airports <- read.csv(\"https://raw.githubusercontent.com/jflam/VSDemos/master/RTVSDemos/airports.dat\", \n",
    "                     header = FALSE)\n",
    "colnames(airports) <- c(\"ID\", \"name\", \"city\", \"country\", \"IATA_FAA\", \"ICAO\", \"lat\", \"lon\", \n",
    "                        \"altitude\", \"timezone\", \"DST\", \"Region\")"
   ]
  },
  {
   "cell_type": "markdown",
   "metadata": {},
   "source": [
    "This data set contains airports from all over the world. Let's get only the \n",
    "airports from the United States."
   ]
  },
  {
   "cell_type": "code",
   "execution_count": null,
   "metadata": {
    "collapsed": false
   },
   "outputs": [],
   "source": [
    "usa_airports <- subset(airports, country == \"United States\")\n",
    "\n",
    "# DT is a really nifty interactive table library with pagination\n",
    "library(DT)\n",
    "table <- datatable(usa_airports[,c(\"name\", \"city\", \"country\", \"IATA_FAA\", \"lat\", \"lon\", \"altitude\")])\n",
    "\n",
    "# Here is the trick to get an interactive graphic to work in notebooks\n",
    "# 1. load htmlwidgets\n",
    "# 2. save interactive object to an html file with saveWidget\n",
    "# 3. load the html back into the notebook and into an iframe element for display with IRdisplay\n",
    "\n",
    "library(htmlwidgets) # lots of cool widgets associated w/ this (http://www.htmlwidgets.org/)\n",
    "\n",
    "fname <- \"something.html\"\n",
    "\n",
    "# selfcontained = FASLE means: save a file with external resources placed in an adjacent directory\n",
    "#  do this just in case there are external resources\n",
    "saveWidget(table, file = fname, selfcontained = F)\n",
    "IRdisplay::display_html(paste(\"<iframe src=' \", fname, \" ' width = 100% height = 400>\"))"
   ]
  },
  {
   "cell_type": "markdown",
   "metadata": {},
   "source": [
    "Let's generate a static map containing the location of all of the airports in the USA"
   ]
  },
  {
   "cell_type": "code",
   "execution_count": null,
   "metadata": {
    "attributes": {
     "classes": [],
     "id": "",
     "message": "FALSE,",
     "warning": "FALSE"
    },
    "collapsed": false
   },
   "outputs": [],
   "source": [
    "library(ggmap)\n",
    "map <- get_map(location = \"Seattle, WA\", zoom = 3)\n",
    "ggmap(map) + geom_point(aes(x = lon, y = lat), data = usa_airports, alpha = 0.25)"
   ]
  },
  {
   "cell_type": "markdown",
   "metadata": {},
   "source": [
    "Let's generate a zoomable, pannable map using the leaflet package. Here you can\n",
    "see airports that belong to the USA that aren't geographically within the borders\n",
    "of the United States."
   ]
  },
  {
   "cell_type": "code",
   "execution_count": null,
   "metadata": {
    "collapsed": true
   },
   "outputs": [],
   "source": [
    "library(leaflet)\n",
    "m <- leaflet(data = usa_airports) %>%\n",
    "  addTiles() %>%  # Add default OpenStreetMap map tiles\n",
    "  addCircles(~lon, ~lat, popup = ~name)\n",
    "\n",
    "# Trick again - probably should make into a fxn\n",
    "library(htmlwidgets)\n",
    "fname = 'tmp.html'\n",
    "saveWidget(m, file = fname, selfcontained = F)\n",
    "IRdisplay::display_html(paste(\"<iframe src=' \", fname, \" ' width = 100% height = 400>\"))"
   ]
  },
  {
   "cell_type": "code",
   "execution_count": null,
   "metadata": {
    "collapsed": false
   },
   "outputs": [],
   "source": [
    "library(leaflet)\n",
    "pal <- colorQuantile(\"YlOrRd\", NULL, n = 8)\n",
    "m <- leaflet(usa_airports) %>% \n",
    "  addTiles() %>%\n",
    "  addCircleMarkers(color = ~pal(lat))\n",
    "\n",
    "# Trick again just for good measure\n",
    "library(htmlwidgets)\n",
    "fname = 'tmp.html'\n",
    "saveWidget(m, file = fname, selfcontained = F)\n",
    "IRdisplay::display_html(paste(\"<iframe src=' \", fname, \" ' width = 100% height = 400>\"))"
   ]
  },
  {
   "cell_type": "markdown",
   "metadata": {},
   "source": [
    "Created by a Microsoft Employee based on work by another Microsoft Employee.\n",
    "\t\n",
    "The MIT License (MIT)<br>\n",
    "Copyright (c) 2016 Micheleen Harris"
   ]
  },
  {
   "cell_type": "code",
   "execution_count": null,
   "metadata": {
    "collapsed": true
   },
   "outputs": [],
   "source": []
  }
 ],
 "metadata": {
  "kernelspec": {
   "display_name": "R",
   "language": "R",
   "name": "ir"
  },
  "language_info": {
   "codemirror_mode": "r",
   "file_extension": ".r",
   "mimetype": "text/x-r-source",
   "name": "R",
   "pygments_lexer": "r",
   "version": "3.2.3"
  }
 },
 "nbformat": 4,
 "nbformat_minor": 0
}
