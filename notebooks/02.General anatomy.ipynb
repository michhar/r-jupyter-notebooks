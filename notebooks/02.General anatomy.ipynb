{
 "cells": [
  {
   "cell_type": "markdown",
   "metadata": {},
   "source": [
    "### My Disclaimers:\n",
    "1.  Notebooks are no substitute for and IDE or real scripts/applications\n",
    "2.  My <b>main</b> use of notebooks are for interactive teaching mostly and sometimes as a playground for some code that I might like to share at some point.\n",
    "3.  I'm a fan because github render's ipynb files nicely (even better than r-markdown)"
   ]
  },
  {
   "cell_type": "markdown",
   "metadata": {},
   "source": [
    "### In this figure are a few labels of notebook parts I will refer to\n",
    "![Parts](https://www.packtpub.com/sites/default/files/Article-Images/B01727_03.png)"
   ]
  },
  {
   "cell_type": "markdown",
   "metadata": {},
   "source": [
    "### Try out these steps as you read through this:\n",
    "> 1. You can click in the Notebook Name area and rename your notebook\n",
    "2. Your notebook is saved to the directory you started this server from (as a general rule though I download the notebook at intervals in addition to saving it just in case)\n",
    "3.  To <b>download</b> the notebook, go to the Menu bar -> File -> Download As -> IPython Notebook (.ipynb) (if you do this you will see you can actually download in many different formats)\n",
    "4. In the toolbar you can add a new cell with the <b>+</b>, run the notebook (the triangle button - might look different in your notebook like a triangle with a line after it)\n",
    "5.  Cell type defaults to <b>Code</b>.  You can change this to <b>Markdown</b> if you want to take notes (markdown is it's own language for which you can find [guides](http://rmarkdown.rstudio.com/authoring_basics.html)). Markdown is what all the text here is written in, so double click on this text to see the raw markdown.  Also, for whatever reason you can embed any <font color = \"red\">html</font> you want (good way to include pics).  Aaaaaand, LaTeX equations seem to render just fine (tables not so much...).\n",
    "6.  <b>Code</b> cell types are grey\n",
    "7.  Most importantly, to run a cell hit the run button in toolbar or just type <b>Ctrl+Enter</b> (try!)"
   ]
  },
  {
   "cell_type": "code",
   "execution_count": null,
   "metadata": {
    "collapsed": false
   },
   "outputs": [],
   "source": [
    "print(paste0(1:10))\n",
    "print(sprintf(\"Your current R version is %s\", R.version.string))"
   ]
  },
  {
   "cell_type": "markdown",
   "metadata": {},
   "source": [
    "### As you can see on your jupyter homepage you can open up any notebook\n",
    "<b>NB: You can return to the homepage by clicking the Jupyter icon in the very upper left corner at any time</b>\n",
    "### You can also Upload a notebook (button on upper right)\n",
    "![Upload button](http://www.ciser.cornell.edu/data_wrangling/python_intro/images/JupyterUpload.gif)\n",
    "### As well as start a new notebook with a specific kernel (button to the right of Upload)\n",
    "![New menu](https://www.ibm.com/developerworks/community/blogs/jfp/resource/BLOGS_UPLOADED_IMAGES/irkernel48.png)"
   ]
  },
  {
   "cell_type": "markdown",
   "metadata": {},
   "source": [
    "> So, what's that number after In or Out?  That's the execution count.  When you save this notebook that number along with any output shown will also be saved.  To <b>reset</b> a notebook go to Cell -> All Output -> Clear and then Save it."
   ]
  },
  {
   "cell_type": "markdown",
   "metadata": {},
   "source": [
    "You can do something like this to render a publicly available notebook on github statically (this I do as a backup for presentations and course stuff):\n",
    "\n",
    "```\n",
    "http://nbviewer.jupyter.org/github/<username>/<repo name>/blob/master/<notebook name>.ipynb\n",
    "```\n",
    "like:<br>\n",
    "http://nbviewer.jupyter.org/github/michhar/rpy2_sample_notebooks/blob/master/TestingRpy2.ipynb"
   ]
  },
  {
   "cell_type": "code",
   "execution_count": null,
   "metadata": {
    "collapsed": true
   },
   "outputs": [],
   "source": []
  }
 ],
 "metadata": {
  "kernelspec": {
   "display_name": "R",
   "language": "R",
   "name": "ir"
  },
  "language_info": {
   "codemirror_mode": "r",
   "file_extension": ".r",
   "mimetype": "text/x-r-source",
   "name": "R",
   "pygments_lexer": "r",
   "version": "3.2.3"
  }
 },
 "nbformat": 4,
 "nbformat_minor": 0
}
