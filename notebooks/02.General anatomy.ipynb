{
 "cells": [
  {
   "cell_type": "markdown",
   "metadata": {},
   "source": [
    "### My Disclaimers:\n",
    "1.  Notebooks are no substitute for an IDE for developing apps.\n",
    "*  Notebooks are not suitable for debugging code (yet).\n",
    "*  They might be a substitute for r-markdown, unless you want quality graphics or auto-generated reporting.\n",
    "*  My <b>main</b> use of notebooks are for interactive teaching mostly and as a playground for some code that I might like to share at some point (I can add useful and pretty markup text, pics, videos, etc).\n",
    "*  I'm a fan also because github render's ipynb files nicely (even better than r-markdown for some reason)."
   ]
  },
  {
   "cell_type": "markdown",
   "metadata": {},
   "source": [
    "### In this figure are a few labels of notebook parts I will refer to\n",
    "![Parts](https://www.packtpub.com/sites/default/files/Article-Images/B01727_03.png)"
   ]
  },
  {
   "cell_type": "markdown",
   "metadata": {},
   "source": [
    "### Try out these steps as you read through this:\n",
    "> 1. You can click in the Notebook Name area and rename your notebook\n",
    "2. Your notebook is saved to the directory you started this server from (as a general rule though I download the notebook at intervals in addition to saving it just in case)\n",
    "3.  To <b>download</b> the notebook, go to the Menu bar -> File -> Download As -> IPython Notebook (.ipynb) (if you do this you will see you can actually download in many different formats)\n",
    "4. In the toolbar you can add a new cell with the <b>+</b>, run the notebook (the triangle button - might look different in your notebook like a triangle with a line after it)\n",
    "5.  Cell type defaults to <b>Code</b>.  You can change this to <b>Markdown</b> if you want to take notes (markdown is it's own language for which you can find [guides](http://rmarkdown.rstudio.com/authoring_basics.html)). Markdown is what all the text here is written in, so double click on this text to see the raw markdown.  Also, for whatever reason you can embed any <font color = \"red\">html</font> you want (good way to include pics).  Aaaaaand, LaTeX equations seem to render just fine with some exceptions.\n",
    "6.  <b>Code</b> cell types are grey\n",
    "7.  Most importantly, to run a cell hit the run button in toolbar or just type <b>Ctrl+Enter</b> (try!)"
   ]
  },
  {
   "cell_type": "code",
   "execution_count": null,
   "metadata": {
    "collapsed": false
   },
   "outputs": [],
   "source": [
    "\n",
    "#### OK, change this cell to markdown to see some examples (you'll recognize this if you speak markdown)\n",
    "# This will be Heading1\n",
    "1. first thing\n",
    "* second thing\n",
    "* third thing\n",
    "\n",
    "A horizontal rule:\n",
    "\n",
    "---\n",
    "> Indented text\n",
    "\n",
    "Code snippet:\n",
    "\n",
    "```r\n",
    "df <- data.frame()\n",
    "```\n",
    "\n",
    "LaTeX inline equation:\n",
    "\n",
    "$\\Delta =\\sum_{i=1}^N w_i (x_i - \\bar{x})^2$\n",
    "\n",
    "LaTeX table:\n",
    "\n",
    "First Header  | Second Header\n",
    "------------- | -------------\n",
    "Content Cell  | Content Cell\n",
    "Content Cell  | Content Cell\n",
    "\n",
    "HTML:\n",
    "\n",
    "<img src='http://www.elm.org/wp-content/uploads/2014/05/gold-star.jpg' alt=\"You get a gold star\" width=\"42\" height=\"42\" align=\"left\">"
   ]
  },
  {
   "cell_type": "code",
   "execution_count": null,
   "metadata": {
    "collapsed": false
   },
   "outputs": [],
   "source": [
    "print(paste0(1:10))\n",
    "print(sprintf(\"Your current R version is %s\", R.version.string))"
   ]
  },
  {
   "cell_type": "markdown",
   "metadata": {},
   "source": [
    "### As you can see on your jupyter homepage you can open up any notebook\n",
    "<b>NB: You can return to the homepage by clicking the Jupyter icon in the very upper left corner at any time</b>\n",
    "### You can also Upload a notebook (button on upper right)\n",
    "![Upload button](http://www.ciser.cornell.edu/data_wrangling/python_intro/images/JupyterUpload.gif)\n",
    "### As well as start a new notebook with a specific kernel (button to the right of Upload)\n",
    "![New menu](https://www.ibm.com/developerworks/community/blogs/jfp/resource/BLOGS_UPLOADED_IMAGES/irkernel48.png)"
   ]
  },
  {
   "cell_type": "markdown",
   "metadata": {},
   "source": [
    "> So, what's that number after `In` or `Out`?  That's the order of running this cell relative to other cells (useful for keeping track of what order cells have been run).  When you save this notebook that number along with any output shown will also be saved.  To <b>reset</b> a notebook go to Cell -> All Output -> Clear and then Save it."
   ]
  },
  {
   "cell_type": "markdown",
   "metadata": {},
   "source": [
    "You can do something like this to render a publicly available notebook on github statically (this I do as a backup for presentations and course stuff):\n",
    "\n",
    "```\n",
    "http://nbviewer.jupyter.org/github/<username>/<repo name>/blob/master/<notebook name>.ipynb\n",
    "```\n",
    "like:<br>\n",
    "http://nbviewer.jupyter.org/github/michhar/rpy2_sample_notebooks/blob/master/TestingRpy2.ipynb\n",
    "\n",
    "<br>\n",
    "Also, you can upload or start a new <b>interactive</b>, free notebook by going here:<br>\n",
    "https://tmpnb.org\n",
    "<br>\n",
    "\n",
    "<br><br>\n",
    "Also, if you are a MSFTE ask me about some other options not in GA yet (sorry public...)."
   ]
  },
  {
   "cell_type": "markdown",
   "metadata": {},
   "source": [
    "> The nifty thing about Jupyter notebooks (and the .ipynb files which you can download and upload) is that you can share these.  They are just written in JSON language.  I put them up in places like GitHub and point people in that direction.  \n",
    "\n",
    "> Some people (like [this guy](http://www.r-bloggers.com/why-i-dont-like-jupyter-fka-ipython-notebook/) who misses the point I think) really dislike notebooks, but they are really good for what they are good at - sharing code ideas plus neat notes and stuff in dev, teaching interactively, even chaining languages together in a polyglot style.  And doing all of this on github works really well (as long as you remember to always clear your output before checking in - version control can get a bit crazy otherwise)."
   ]
  },
  {
   "cell_type": "markdown",
   "metadata": {},
   "source": [
    "### Some additional features\n",
    "* tab completion\n",
    "* function introspection\n",
    "* help"
   ]
  },
  {
   "cell_type": "code",
   "execution_count": null,
   "metadata": {
    "collapsed": false
   },
   "outputs": [],
   "source": [
    "# first, let's install some packages to play with\n",
    "# replace lib string with your local library path\n",
    "install.packages(c(\"ggplot2\"),\n",
    "                repos = \"http://cloud.r-project.org\",\n",
    "                lib = \"C:/Users/michhar/Documents/R/win-library/3.2\")"
   ]
  },
  {
   "cell_type": "code",
   "execution_count": null,
   "metadata": {
    "collapsed": true
   },
   "outputs": [],
   "source": [
    "# tab completion and introspection\n",
    "\n",
    "ggplot2::q # hit tab at end\n",
    "plot() # place cursor in () and tab"
   ]
  },
  {
   "cell_type": "code",
   "execution_count": null,
   "metadata": {
    "collapsed": false
   },
   "outputs": [],
   "source": [
    "# help!\n",
    "library(rjson)\n",
    "\n",
    "?fromJSON"
   ]
  },
  {
   "cell_type": "code",
   "execution_count": null,
   "metadata": {
    "collapsed": false
   },
   "outputs": [],
   "source": [
    "# My feeble attempt at debugging - your mission if you choose to accept it is to figure this out\n",
    "#library(htmlwidgets)\n",
    "#fname = 'tmp.html'\n",
    "\n",
    "options(error = browser())\n",
    "\n",
    "f <- function(a) g(a)\n",
    "g <- function(b) h(b)\n",
    "h <- function(c) i(c)\n",
    "i <- function(d) \"a\" + d\n",
    "f(10)\n",
    "t <- traceback()\n",
    "\n",
    "#saveWidget(t, file = fname, selfcontained = F)\n",
    "#IRdisplay::display_html(paste(\"<iframe src=' \", fname, \" ' width = 100% height = 400>\"))"
   ]
  },
  {
   "cell_type": "markdown",
   "metadata": {
    "collapsed": true
   },
   "source": [
    "Created by a Microsoft Employee.\n",
    "\t\n",
    "The MIT License (MIT)<br>\n",
    "Copyright (c) 2016 Micheleen Harris"
   ]
  },
  {
   "cell_type": "code",
   "execution_count": null,
   "metadata": {
    "collapsed": true
   },
   "outputs": [],
   "source": []
  }
 ],
 "metadata": {
  "kernelspec": {
   "display_name": "R",
   "language": "R",
   "name": "ir"
  },
  "language_info": {
   "codemirror_mode": "r",
   "file_extension": ".r",
   "mimetype": "text/x-r-source",
   "name": "R",
   "pygments_lexer": "r",
   "version": "3.2.3"
  }
 },
 "nbformat": 4,
 "nbformat_minor": 0
}
